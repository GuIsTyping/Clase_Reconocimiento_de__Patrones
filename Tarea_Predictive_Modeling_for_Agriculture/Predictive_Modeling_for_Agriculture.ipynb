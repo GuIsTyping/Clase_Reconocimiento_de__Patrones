{
  "cells": [
    {
      "cell_type": "markdown",
      "metadata": {
        "id": "view-in-github",
        "colab_type": "text"
      },
      "source": [
        "<a href=\"https://colab.research.google.com/github/GuIsTyping/Clase_Reconocimiento_de__Patrones/blob/main/Tarea_Predictive_Modeling_for_Agriculture/Predictive_Modeling_for_Agriculture.ipynb\" target=\"_parent\"><img src=\"https://colab.research.google.com/assets/colab-badge.svg\" alt=\"Open In Colab\"/></a>"
      ]
    },
    {
      "source": [
        "# Sowing Success: How Machine Learning Helps Farmers Select the Best Crops\n",
        "\n",
        "![Farmer in a field](farmer_in_a_field.jpg)\n",
        "\n",
        "Measuring essential soil metrics such as nitrogen, phosphorous, potassium levels, and pH value is an important aspect of assessing soil condition. However, it can be an expensive and time-consuming process, which can cause farmers to prioritize which metrics to measure based on their budget constraints.\n",
        "\n",
        "Farmers have various options when it comes to deciding which crop to plant each season. Their primary objective is to maximize the yield of their crops, taking into account different factors. One crucial factor that affects crop growth is the condition of the soil in the field, which can be assessed by measuring basic elements such as nitrogen and potassium levels. Each crop has an ideal soil condition that ensures optimal growth and maximum yield.\n",
        "\n",
        "A farmer reached out to you as a machine learning expert for assistance in selecting the best crop for his field. They've provided you with a dataset called `soil_measures.csv`, which contains:\n",
        "\n",
        "- `\"N\"`: Nitrogen content ratio in the soil\n",
        "- `\"P\"`: Phosphorous content ratio in the soil\n",
        "- `\"K\"`: Potassium content ratio in the soil\n",
        "- `\"pH\"` value of the soil\n",
        "- `\"crop\"`: categorical values that contain various crops (target variable).\n",
        "\n",
        "Each row in this dataset represents various measures of the soil in a particular field. Based on these measurements, the crop specified in the `\"crop\"` column is the optimal choice for that field.  \n",
        "\n",
        "In this project, you will build multi-class classification models to predict the type of `\"crop\"` and identify the single most importance feature for predictive performance."
      ],
      "metadata": {
        "id": "d3d001b0-2e2f-4b58-8442-99520bad831f"
      },
      "id": "d3d001b0-2e2f-4b58-8442-99520bad831f",
      "cell_type": "markdown"
    },
    {
      "cell_type": "code",
      "source": [
        "# All required libraries are imported here for you.\n",
        "import pandas as pd\n",
        "from sklearn.linear_model import LogisticRegression\n",
        "from sklearn.model_selection import train_test_split\n",
        "from sklearn import metrics\n"
      ],
      "metadata": {
        "id": "ka--FPDLvOE9"
      },
      "id": "ka--FPDLvOE9",
      "execution_count": null,
      "outputs": []
    },
    {
      "cell_type": "code",
      "source": [
        "# Load the dataset\n",
        "crops = pd.read_csv(\"Datasets/soil_measures.csv\")"
      ],
      "metadata": {
        "id": "G6gj9MfHvQz6"
      },
      "id": "G6gj9MfHvQz6",
      "execution_count": 3,
      "outputs": []
    },
    {
      "cell_type": "code",
      "source": [
        "# Write your code here\n",
        "print(crops.head())"
      ],
      "metadata": {
        "colab": {
          "base_uri": "https://localhost:8080/"
        },
        "id": "GYH7nWvlvSwD",
        "outputId": "424a85fe-91f7-4b6c-89ca-8364823da768"
      },
      "id": "GYH7nWvlvSwD",
      "execution_count": 4,
      "outputs": [
        {
          "output_type": "stream",
          "name": "stdout",
          "text": [
            "    N   P   K        ph  crop\n",
            "0  90  42  43  6.502985  rice\n",
            "1  85  58  41  7.038096  rice\n",
            "2  60  55  44  7.840207  rice\n",
            "3  74  35  40  6.980401  rice\n",
            "4  78  42  42  7.628473  rice\n"
          ]
        }
      ]
    },
    {
      "cell_type": "code",
      "source": [
        "missing_values = crops.isnull().sum()\n",
        "print(\"Missing values in each column:\")\n",
        "print(missing_values)"
      ],
      "metadata": {
        "colab": {
          "base_uri": "https://localhost:8080/"
        },
        "id": "Vrz8X47lvY_y",
        "outputId": "bccf43c9-e043-4ba5-aec2-c09161a32913"
      },
      "id": "Vrz8X47lvY_y",
      "execution_count": 5,
      "outputs": [
        {
          "output_type": "stream",
          "name": "stdout",
          "text": [
            "Missing values in each column:\n",
            "N       0\n",
            "P       0\n",
            "K       0\n",
            "ph      0\n",
            "crop    0\n",
            "dtype: int64\n"
          ]
        }
      ]
    },
    {
      "cell_type": "code",
      "source": [
        "crop_types = crops['crop'].value_counts()\n",
        "print(\"Crop types and their counts:\")\n",
        "print(crop_types)"
      ],
      "metadata": {
        "colab": {
          "base_uri": "https://localhost:8080/"
        },
        "id": "ys0_FZ_Rvbc_",
        "outputId": "dc76ca58-00d7-4182-bf32-d475da30fe68"
      },
      "id": "ys0_FZ_Rvbc_",
      "execution_count": 6,
      "outputs": [
        {
          "output_type": "stream",
          "name": "stdout",
          "text": [
            "Crop types and their counts:\n",
            "crop\n",
            "rice           100\n",
            "maize          100\n",
            "jute           100\n",
            "cotton         100\n",
            "coconut        100\n",
            "papaya         100\n",
            "orange         100\n",
            "apple          100\n",
            "muskmelon      100\n",
            "watermelon     100\n",
            "grapes         100\n",
            "mango          100\n",
            "banana         100\n",
            "pomegranate    100\n",
            "lentil         100\n",
            "blackgram      100\n",
            "mungbean       100\n",
            "mothbeans      100\n",
            "pigeonpeas     100\n",
            "kidneybeans    100\n",
            "chickpea       100\n",
            "coffee         100\n",
            "Name: count, dtype: int64\n"
          ]
        }
      ]
    },
    {
      "cell_type": "code",
      "source": [
        "X = crops.drop(columns=['crop'])\n",
        "y = crops['crop']\n",
        "\n",
        "#Train test split\n",
        "X_train, X_test, y_train, y_test = train_test_split(X, y, test_size=0.2, random_state=42)"
      ],
      "metadata": {
        "id": "dqmjT2R6vc0z"
      },
      "id": "dqmjT2R6vc0z",
      "execution_count": 7,
      "outputs": []
    },
    {
      "cell_type": "code",
      "source": [
        "#Dictionary\n",
        "feature_performance = {}"
      ],
      "metadata": {
        "id": "tRN3Ot3yvgpa"
      },
      "id": "tRN3Ot3yvgpa",
      "execution_count": 8,
      "outputs": []
    },
    {
      "cell_type": "code",
      "source": [
        "# Loop through each feature\n",
        "for feature in X.columns:\n",
        "    X_train_feature = X_train[[feature]]\n",
        "    X_test_feature = X_test[[feature]]\n",
        "\n",
        "    model = LogisticRegression()\n",
        "    model.fit(X_train_feature, y_train)\n",
        "\n",
        "    y_pred = model.predict(X_test_feature)\n",
        "\n",
        "    # Evaluate the model's performance\n",
        "    accuracy = metrics.accuracy_score(y_test, y_pred)\n",
        "\n",
        "    # Store the accuracy in the dictionary\n",
        "    feature_performance[feature] = accuracy"
      ],
      "metadata": {
        "colab": {
          "base_uri": "https://localhost:8080/"
        },
        "id": "L95jt39eviE5",
        "outputId": "689a0b4e-41cf-4812-c0d1-8e67f65ca696"
      },
      "id": "L95jt39eviE5",
      "execution_count": 9,
      "outputs": [
        {
          "output_type": "stream",
          "name": "stderr",
          "text": [
            "/usr/local/lib/python3.10/dist-packages/sklearn/linear_model/_logistic.py:460: ConvergenceWarning: lbfgs failed to converge (status=1):\n",
            "STOP: TOTAL NO. of ITERATIONS REACHED LIMIT.\n",
            "\n",
            "Increase the number of iterations (max_iter) or scale the data as shown in:\n",
            "    https://scikit-learn.org/stable/modules/preprocessing.html\n",
            "Please also refer to the documentation for alternative solver options:\n",
            "    https://scikit-learn.org/stable/modules/linear_model.html#logistic-regression\n",
            "  n_iter_i = _check_optimize_result(\n",
            "/usr/local/lib/python3.10/dist-packages/sklearn/linear_model/_logistic.py:460: ConvergenceWarning: lbfgs failed to converge (status=1):\n",
            "STOP: TOTAL NO. of ITERATIONS REACHED LIMIT.\n",
            "\n",
            "Increase the number of iterations (max_iter) or scale the data as shown in:\n",
            "    https://scikit-learn.org/stable/modules/preprocessing.html\n",
            "Please also refer to the documentation for alternative solver options:\n",
            "    https://scikit-learn.org/stable/modules/linear_model.html#logistic-regression\n",
            "  n_iter_i = _check_optimize_result(\n",
            "/usr/local/lib/python3.10/dist-packages/sklearn/linear_model/_logistic.py:460: ConvergenceWarning: lbfgs failed to converge (status=1):\n",
            "STOP: TOTAL NO. of ITERATIONS REACHED LIMIT.\n",
            "\n",
            "Increase the number of iterations (max_iter) or scale the data as shown in:\n",
            "    https://scikit-learn.org/stable/modules/preprocessing.html\n",
            "Please also refer to the documentation for alternative solver options:\n",
            "    https://scikit-learn.org/stable/modules/linear_model.html#logistic-regression\n",
            "  n_iter_i = _check_optimize_result(\n"
          ]
        }
      ]
    },
    {
      "cell_type": "code",
      "source": [
        "# Find the best feature based on the highest accuracy\n",
        "best_predictive_feature_name = max(feature_performance, key=feature_performance.get)\n",
        "best_accuracy = feature_performance[best_predictive_feature_name]\n",
        "\n",
        "best_predictive_feature = {best_predictive_feature_name: best_accuracy}\n",
        "\n",
        "print(best_predictive_feature)"
      ],
      "metadata": {
        "colab": {
          "base_uri": "https://localhost:8080/"
        },
        "id": "UcPL1vqOvmlI",
        "outputId": "eca0d68c-169d-4e31-c81f-e12ee5a63d1d"
      },
      "id": "UcPL1vqOvmlI",
      "execution_count": 10,
      "outputs": [
        {
          "output_type": "stream",
          "name": "stdout",
          "text": [
            "{'K': 0.2863636363636364}\n"
          ]
        }
      ]
    }
  ],
  "metadata": {
    "colab": {
      "provenance": [],
      "include_colab_link": true
    },
    "kernelspec": {
      "display_name": "Python 3 (ipykernel)",
      "language": "python",
      "name": "python3"
    },
    "language_info": {
      "codemirror_mode": {
        "name": "ipython",
        "version": 3
      },
      "file_extension": ".py",
      "mimetype": "text/x-python",
      "name": "python",
      "nbconvert_exporter": "python",
      "pygments_lexer": "ipython3",
      "version": "3.8.10"
    }
  },
  "nbformat": 4,
  "nbformat_minor": 5
}